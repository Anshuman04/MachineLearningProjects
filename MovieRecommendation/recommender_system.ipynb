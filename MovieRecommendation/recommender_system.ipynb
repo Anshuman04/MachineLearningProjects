{
 "cells": [
  {
   "cell_type": "code",
   "execution_count": 1,
   "id": "095ab003",
   "metadata": {},
   "outputs": [],
   "source": [
    "import numpy as np\n",
    "import pandas as pd\n",
    "from matplotlib import pyplot as plt\n",
    "import surprise as utils\n",
    "from surprise import KNNBasic, SVD\n",
    "from surprise.model_selection import cross_validate as CV"
   ]
  },
  {
   "cell_type": "code",
   "execution_count": 3,
   "id": "315d8dde",
   "metadata": {},
   "outputs": [
    {
     "name": "stdout",
     "output_type": "stream",
     "text": [
      "   userId  movieId  rating   timestamp\n",
      "0       1       31     2.5  1260759144\n",
      "1       1     1029     3.0  1260759179\n",
      "2       1     1061     3.0  1260759182\n",
      "3       1     1129     2.0  1260759185\n",
      "4       1     1172     4.0  1260759205\n",
      "<class 'pandas.core.frame.DataFrame'>\n",
      "RangeIndex: 100004 entries, 0 to 100003\n",
      "Data columns (total 4 columns):\n",
      " #   Column     Non-Null Count   Dtype  \n",
      "---  ------     --------------   -----  \n",
      " 0   userId     100004 non-null  int64  \n",
      " 1   movieId    100004 non-null  int64  \n",
      " 2   rating     100004 non-null  float64\n",
      " 3   timestamp  100004 non-null  int64  \n",
      "dtypes: float64(1), int64(3)\n",
      "memory usage: 3.1 MB\n",
      "None\n"
     ]
    }
   ],
   "source": [
    "ratingsDF = pd.read_csv(\"ratings_small.csv\")\n",
    "print(ratingsDF.head())\n",
    "print(ratingsDF.info())"
   ]
  },
  {
   "cell_type": "code",
   "execution_count": 7,
   "id": "341a33ea",
   "metadata": {},
   "outputs": [],
   "source": [
    "readObj = utils.Reader(line_format=\"user item rating timestamp\", sep=\",\", skip_lines=1)\n",
    "dataset = utils.Dataset.load_from_file(\"ratings_small.csv\", readObj)"
   ]
  },
  {
   "cell_type": "code",
   "execution_count": 10,
   "id": "ca0a43e4",
   "metadata": {},
   "outputs": [
    {
     "name": "stdout",
     "output_type": "stream",
     "text": [
      "Computing the msd similarity matrix...\n",
      "Done computing similarity matrix.\n",
      "Computing the msd similarity matrix...\n",
      "Done computing similarity matrix.\n",
      "Computing the msd similarity matrix...\n",
      "Done computing similarity matrix.\n",
      "Computing the msd similarity matrix...\n",
      "Done computing similarity matrix.\n",
      "Computing the msd similarity matrix...\n",
      "Done computing similarity matrix.\n"
     ]
    }
   ],
   "source": [
    "# User Based\n",
    "model_ub = KNNBasic()\n",
    "result_ub = CV(model_ub, dataset, measures=[\"mae\", \"rmse\"], cv=5)"
   ]
  },
  {
   "cell_type": "code",
   "execution_count": 12,
   "id": "6d80299c",
   "metadata": {},
   "outputs": [
    {
     "name": "stdout",
     "output_type": "stream",
     "text": [
      "Computing the msd similarity matrix...\n",
      "Done computing similarity matrix.\n",
      "Computing the msd similarity matrix...\n",
      "Done computing similarity matrix.\n",
      "Computing the msd similarity matrix...\n",
      "Done computing similarity matrix.\n",
      "Computing the msd similarity matrix...\n",
      "Done computing similarity matrix.\n",
      "Computing the msd similarity matrix...\n",
      "Done computing similarity matrix.\n"
     ]
    }
   ],
   "source": [
    "# Item Based\n",
    "model_ib = KNNBasic(sim_options={\"user_based\": False})\n",
    "result_ib = CV(model_ub, dataset, measures=[\"mae\", \"rmse\"], cv=5)"
   ]
  },
  {
   "cell_type": "code",
   "execution_count": 21,
   "id": "b60612a0",
   "metadata": {},
   "outputs": [],
   "source": [
    "# PMF\n",
    "model_pmf = SVD(biased=False)\n",
    "result_pmf = CV(model_pmf, dataset, measures=[\"mae\", \"rmse\"], cv=5)"
   ]
  },
  {
   "cell_type": "code",
   "execution_count": 37,
   "id": "e312ac23",
   "metadata": {},
   "outputs": [
    {
     "name": "stdout",
     "output_type": "stream",
     "text": [
      "\t\t  MAE\t   RMSE\n",
      "User CF:\t0.74347   0.96741\n",
      "Item CF:\t0.74357   0.96804\n",
      "PMF:   \t\t0.77814   1.0082\n"
     ]
    }
   ],
   "source": [
    "# Summary\n",
    "print(\"\\t\\t  MAE\\t   RMSE\")\n",
    "print(\"User CF:\\t{:.5}   {:.5}\".format(result_ub['test_mae'].mean(), result_ub['test_rmse'].mean()))\n",
    "print(\"Item CF:\\t{:.5}   {:.5}\".format(result_ib['test_mae'].mean(), result_ib['test_rmse'].mean()))\n",
    "print(\"PMF:   \\t\\t{:.5}   {:.5}\".format(result_pmf['test_mae'].mean(), result_pmf['test_rmse'].mean()))\n"
   ]
  },
  {
   "cell_type": "code",
   "execution_count": 38,
   "id": "5a85983d",
   "metadata": {},
   "outputs": [
    {
     "name": "stdout",
     "output_type": "stream",
     "text": [
      "Computing the cosine similarity matrix...\n",
      "Done computing similarity matrix.\n",
      "Computing the cosine similarity matrix...\n",
      "Done computing similarity matrix.\n",
      "Computing the cosine similarity matrix...\n",
      "Done computing similarity matrix.\n",
      "Computing the cosine similarity matrix...\n",
      "Done computing similarity matrix.\n",
      "Computing the cosine similarity matrix...\n",
      "Done computing similarity matrix.\n",
      "Computing the msd similarity matrix...\n",
      "Done computing similarity matrix.\n",
      "Computing the msd similarity matrix...\n",
      "Done computing similarity matrix.\n",
      "Computing the msd similarity matrix...\n",
      "Done computing similarity matrix.\n",
      "Computing the msd similarity matrix...\n",
      "Done computing similarity matrix.\n",
      "Computing the msd similarity matrix...\n",
      "Done computing similarity matrix.\n",
      "Estimating biases using als...\n",
      "Computing the pearson_baseline similarity matrix...\n",
      "Done computing similarity matrix.\n",
      "Estimating biases using als...\n",
      "Computing the pearson_baseline similarity matrix...\n",
      "Done computing similarity matrix.\n",
      "Estimating biases using als...\n",
      "Computing the pearson_baseline similarity matrix...\n",
      "Done computing similarity matrix.\n",
      "Estimating biases using als...\n",
      "Computing the pearson_baseline similarity matrix...\n",
      "Done computing similarity matrix.\n",
      "Estimating biases using als...\n",
      "Computing the pearson_baseline similarity matrix...\n",
      "Done computing similarity matrix.\n"
     ]
    }
   ],
   "source": [
    "# Comparing distance metric for User Base CF\n",
    "model_ub_cos = KNNBasic(sim_options={\"name\": \"cosine\"})\n",
    "result_ub_cos = CV(model_ub_cos, dataset, measures=[\"mae\", \"rmse\"], cv=5)\n",
    "\n",
    "model_ub_msd = KNNBasic(sim_options={\"name\": \"msd\"})\n",
    "result_ub_msd = CV(model_ub_msd, dataset, measures=[\"mae\", \"rmse\"], cv=5)\n",
    "\n",
    "model_ub_pb = KNNBasic(sim_options={\"name\": \"pearson_baseline\"})\n",
    "result_ub_pb = CV(model_ub_pb, dataset, measures=[\"mae\", \"rmse\"], cv=5)"
   ]
  },
  {
   "cell_type": "code",
   "execution_count": 52,
   "id": "227d731e",
   "metadata": {},
   "outputs": [
    {
     "name": "stdout",
     "output_type": "stream",
     "text": [
      "\t\t  MAE\t   RMSE\n",
      "Cosine:\t\t0.76755   0.99395\n",
      "MSD:\t\t0.74418   0.96825\n",
      "Pearson:   \t0.76853   0.9955\n"
     ]
    },
    {
     "data": {
      "image/png": "[encoded data removed]",
      "text/plain": [
       "<Figure size 432x288 with 1 Axes>"
      ]
     },
     "metadata": {
      "needs_background": "light"
     },
     "output_type": "display_data"
    }
   ],
   "source": [
    "# Summary distance metric comparison\n",
    "plt.clf()\n",
    "print(\"\\t\\t  MAE\\t   RMSE\")\n",
    "print(\"Cosine:\\t\\t{:.5}   {:.5}\".format(result_ub_cos['test_mae'].mean(), result_ub_cos['test_rmse'].mean()))\n",
    "print(\"MSD:\\t\\t{:.5}   {:.5}\".format(result_ub_msd['test_mae'].mean(), result_ub_msd['test_rmse'].mean()))\n",
    "print(\"Pearson:   \\t{:.5}   {:.5}\".format(result_ub_pb['test_mae'].mean(), result_ub_pb['test_rmse'].mean()))\n",
    "\n",
    "mae = [result_ub_cos['test_mae'].mean(), result_ub_msd['test_mae'].mean(), result_ub_pb['test_mae'].mean()]\n",
    "rmse = [result_ub_cos['test_rmse'].mean(), result_ub_msd['test_rmse'].mean(), result_ub_pb['test_rmse'].mean()]\n",
    "x_labels = [\"Cosine\", \"MSD\", \"Pearson\"]\n",
    "# plt.legend([\"mae\", \"rmse\"])\n",
    "plt.plot(x_labels, mae, label='MAE')\n",
    "plt.plot(x_labels, rmse, label='RMSE')\n",
    "plt.legend([\"MAE\", \"RMSE\"])\n",
    "plt.show()"
   ]
  },
  {
   "cell_type": "code",
   "execution_count": 44,
   "id": "568b24f6",
   "metadata": {},
   "outputs": [
    {
     "name": "stdout",
     "output_type": "stream",
     "text": [
      "Computing the cosine similarity matrix...\n",
      "Done computing similarity matrix.\n",
      "Computing the cosine similarity matrix...\n",
      "Done computing similarity matrix.\n",
      "Computing the cosine similarity matrix...\n",
      "Done computing similarity matrix.\n",
      "Computing the cosine similarity matrix...\n",
      "Done computing similarity matrix.\n",
      "Computing the cosine similarity matrix...\n",
      "Done computing similarity matrix.\n",
      "Computing the msd similarity matrix...\n",
      "Done computing similarity matrix.\n",
      "Computing the msd similarity matrix...\n",
      "Done computing similarity matrix.\n",
      "Computing the msd similarity matrix...\n",
      "Done computing similarity matrix.\n",
      "Computing the msd similarity matrix...\n",
      "Done computing similarity matrix.\n",
      "Computing the msd similarity matrix...\n",
      "Done computing similarity matrix.\n",
      "Estimating biases using als...\n",
      "Computing the pearson_baseline similarity matrix...\n",
      "Done computing similarity matrix.\n",
      "Estimating biases using als...\n",
      "Computing the pearson_baseline similarity matrix...\n",
      "Done computing similarity matrix.\n",
      "Estimating biases using als...\n",
      "Computing the pearson_baseline similarity matrix...\n",
      "Done computing similarity matrix.\n",
      "Estimating biases using als...\n",
      "Computing the pearson_baseline similarity matrix...\n",
      "Done computing similarity matrix.\n",
      "Estimating biases using als...\n",
      "Computing the pearson_baseline similarity matrix...\n",
      "Done computing similarity matrix.\n"
     ]
    }
   ],
   "source": [
    "# Comparing distance metric for Item Base CF\n",
    "model_ib_cos = KNNBasic(sim_options={\"name\": \"cosine\", \"user_based\": False})\n",
    "result_ib_cos = CV(model_ib_cos, dataset, measures=[\"mae\", \"rmse\"], cv=5)\n",
    "\n",
    "model_ib_msd = KNNBasic(sim_options={\"name\": \"msd\", \"user_based\": False})\n",
    "result_ib_msd = CV(model_ib_msd, dataset, measures=[\"mae\", \"rmse\"], cv=5)\n",
    "\n",
    "model_ib_pb = KNNBasic(sim_options={\"name\": \"pearson_baseline\", \"user_based\": False})\n",
    "result_ib_pb = CV(model_ib_pb, dataset, measures=[\"mae\", \"rmse\"], cv=5)"
   ]
  },
  {
   "cell_type": "code",
   "execution_count": 51,
   "id": "918ee9b5",
   "metadata": {},
   "outputs": [
    {
     "name": "stdout",
     "output_type": "stream",
     "text": [
      "\t\t  MAE\t   RMSE\n",
      "Cosine:\t\t0.7747   0.99499\n",
      "MSD:\t\t0.72088   0.93479\n",
      "Pearson:   \t0.71306   0.94104\n"
     ]
    },
    {
     "data": {
      "image/png": "[encoded data removed]",
      "text/plain": [
       "<Figure size 432x288 with 1 Axes>"
      ]
     },
     "metadata": {
      "needs_background": "light"
     },
     "output_type": "display_data"
    }
   ],
   "source": [
    "# Summary distance metric comparison\n",
    "plt.clf()\n",
    "print(\"\\t\\t  MAE\\t   RMSE\")\n",
    "print(\"Cosine:\\t\\t{:.5}   {:.5}\".format(result_ib_cos['test_mae'].mean(), result_ib_cos['test_rmse'].mean()))\n",
    "print(\"MSD:\\t\\t{:.5}   {:.5}\".format(result_ib_msd['test_mae'].mean(), result_ib_msd['test_rmse'].mean()))\n",
    "print(\"Pearson:   \\t{:.5}   {:.5}\".format(result_ib_pb['test_mae'].mean(), result_ib_pb['test_rmse'].mean()))\n",
    "\n",
    "mae = [result_ib_cos['test_mae'].mean(), result_ib_msd['test_mae'].mean(), result_ib_pb['test_mae'].mean()]\n",
    "rmse = [result_ib_cos['test_rmse'].mean(), result_ib_msd['test_rmse'].mean(), result_ib_pb['test_rmse'].mean()]\n",
    "x_labels = [\"Cosine\", \"MSD\", \"Pearson\"]\n",
    "# plt.legend([\"mae\", \"rmse\"])\n",
    "plt.plot(x_labels, mae, label=\"MAE\")\n",
    "plt.plot(x_labels, rmse, label=\"RMSE\")\n",
    "plt.legend([\"MAE\", \"RMSE\"])\n",
    "plt.show()"
   ]
  },
  {
   "cell_type": "code",
   "execution_count": 62,
   "id": "a6a12655",
   "metadata": {},
   "outputs": [
    {
     "name": "stdout",
     "output_type": "stream",
     "text": [
      "----------  K = 1  ----------\n",
      "----------  K = 5  ----------\n",
      "----------  K = 10  ----------\n",
      "----------  K = 15  ----------\n",
      "----------  K = 20  ----------\n",
      "----------  K = 25  ----------\n",
      "----------  K = 30  ----------\n",
      "----------  K = 35  ----------\n",
      "----------  K = 40  ----------\n",
      "----------  K = 45  ----------\n",
      "----------  K = 50  ----------\n",
      "----------  K = 55  ----------\n",
      "----------  K = 60  ----------\n",
      "----------  K = 65  ----------\n",
      "----------  K = 70  ----------\n",
      "----------  K = 75  ----------\n",
      "----------  K = 80  ----------\n",
      "----------  K = 85  ----------\n",
      "----------  K = 90  ----------\n",
      "----------  K = 95  ----------\n",
      "----------  K = 100  ----------\n"
     ]
    }
   ],
   "source": [
    "# Best K Finder for user based\n",
    "kVals = list(range(0, 101, 5))\n",
    "kVals[0] = 1\n",
    "resK_ub = []\n",
    "\n",
    "for k in kVals:\n",
    "    print(\"-\" * 10, \" K = {} \".format(k), \"-\" * 10)\n",
    "    modelObj = KNNBasic(k, verbose=False)\n",
    "    resK_ub.append(CV(modelObj, dataset, measures=[\"rmse\"], cv=5))\n",
    "    "
   ]
  },
  {
   "cell_type": "code",
   "execution_count": 64,
   "id": "adab6cc0",
   "metadata": {},
   "outputs": [
    {
     "name": "stdout",
     "output_type": "stream",
     "text": [
      "----------  K = 1  ----------\n",
      "----------  K = 5  ----------\n",
      "----------  K = 10  ----------\n",
      "----------  K = 15  ----------\n",
      "----------  K = 20  ----------\n",
      "----------  K = 25  ----------\n",
      "----------  K = 30  ----------\n",
      "----------  K = 35  ----------\n",
      "----------  K = 40  ----------\n",
      "----------  K = 45  ----------\n",
      "----------  K = 50  ----------\n",
      "----------  K = 55  ----------\n",
      "----------  K = 60  ----------\n",
      "----------  K = 65  ----------\n",
      "----------  K = 70  ----------\n",
      "----------  K = 75  ----------\n",
      "----------  K = 80  ----------\n",
      "----------  K = 85  ----------\n",
      "----------  K = 90  ----------\n",
      "----------  K = 95  ----------\n",
      "----------  K = 100  ----------\n"
     ]
    }
   ],
   "source": [
    "# Best K Finder for item based\n",
    "kVals = list(range(0, 101, 5))\n",
    "kVals[0] = 1\n",
    "resK_ib = []\n",
    "\n",
    "for k in kVals:\n",
    "    print(\"-\" * 10, \" K = {} \".format(k), \"-\" * 10)\n",
    "    modelObj = KNNBasic(k, sim_options={\"user_based\": False}, verbose=False)\n",
    "    resK_ib.append(CV(modelObj, dataset, measures=[\"rmse\"], cv=5))\n",
    "    "
   ]
  },
  {
   "cell_type": "code",
   "execution_count": 65,
   "id": "f7bf59e2",
   "metadata": {},
   "outputs": [
    {
     "name": "stdout",
     "output_type": "stream",
     "text": [
      "[1.210925711944538, 0.9863170846767059, 0.9660151914180224, 0.9614118576995005, 0.9621418551444381, 0.9622452952035122, 0.9639084534672607, 0.9657644948505852, 0.9683952514088621, 0.9677327636287021, 0.9699330067832749, 0.9718640093912813, 0.972257834841578, 0.9726838251866227, 0.9730820213096475, 0.9733873169344893, 0.9739984309084806, 0.9738552698652061, 0.9756929207449112, 0.9758653581324239, 0.9753458288515446]\n"
     ]
    },
    {
     "data": {
      "image/png": "[encoded data removed]",
      "text/plain": [
       "<Figure size 432x288 with 1 Axes>"
      ]
     },
     "metadata": {
      "needs_background": "light"
     },
     "output_type": "display_data"
    }
   ],
   "source": [
    "# Plot k vs RMSE for user base\n",
    "plt.clf()\n",
    "ub = [item[\"test_rmse\"].mean() for item in resK_ub]\n",
    "print(ub)\n",
    "plt.plot(kVals, ub)\n",
    "plt.show()"
   ]
  },
  {
   "cell_type": "code",
   "execution_count": 67,
   "id": "0a239f4d",
   "metadata": {},
   "outputs": [
    {
     "name": "stdout",
     "output_type": "stream",
     "text": [
      "[1.3030468680129952, 1.0255956093782372, 0.9752164648644767, 0.9563378999862413, 0.9470092843563375, 0.9422448159371385, 0.9392689608925717, 0.9372909484365209, 0.9350673992179782, 0.934151706527578, 0.9345491116014738, 0.9330661961504255, 0.9319452537600279, 0.9322877202217035, 0.9309031025590361, 0.931361840700825, 0.9316904230303447, 0.9318632567857821, 0.9318733090399608, 0.9320678486533961, 0.9314292404140112]\n"
     ]
    },
    {
     "data": {
      "image/png": "[encoded data removed]",
      "text/plain": [
       "<Figure size 432x288 with 1 Axes>"
      ]
     },
     "metadata": {
      "needs_background": "light"
     },
     "output_type": "display_data"
    }
   ],
   "source": [
    "# Plot k vs RMSE for item base\n",
    "plt.clf()\n",
    "ib = [item[\"test_rmse\"].mean() for item in resK_ib]\n",
    "print(ib)\n",
    "plt.plot(kVals, ub)\n",
    "plt.show()"
   ]
  },
  {
   "cell_type": "code",
   "execution_count": 71,
   "id": "1dea7f78",
   "metadata": {},
   "outputs": [
    {
     "name": "stdout",
     "output_type": "stream",
     "text": [
      "Item Based CF: Best results at K = 70\n",
      "User Based CF: Best results at K = 15\n"
     ]
    }
   ],
   "source": [
    "# Minimum RMSE on what K values\n",
    "minK_ub = ub.index(min(ub)) * 5\n",
    "minK_ib = ib.index(min(ib)) * 5\n",
    "\n",
    "print(\"Item Based CF: Best results at K = {}\".format(minK_ib))\n",
    "print(\"User Based CF: Best results at K = {}\".format(minK_ub))"
   ]
  }
 ],
 "metadata": {
  "kernelspec": {
   "display_name": "Python 3 (ipykernel)",
   "language": "python",
   "name": "python3"
  },
  "language_info": {
   "codemirror_mode": {
    "name": "ipython",
    "version": 3
   },
   "file_extension": ".py",
   "mimetype": "text/x-python",
   "name": "python",
   "nbconvert_exporter": "python",
   "pygments_lexer": "ipython3",
   "version": "3.9.7"
  }
 },
 "nbformat": 4,
 "nbformat_minor": 5
}
