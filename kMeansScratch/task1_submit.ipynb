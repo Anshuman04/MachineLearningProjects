{
 "cells": [
  {
   "cell_type": "code",
   "execution_count": 1,
   "metadata": {
    "collapsed": true
   },
   "outputs": [],
   "source": [
    "import pandas as pd\n",
    "data = pd.read_csv(\"dataset\\data.csv\", header=None)\n",
    "labels = pd.read_csv(\"dataset\\label.csv\", header=None)"
   ]
  },
  {
   "cell_type": "code",
   "execution_count": 2,
   "outputs": [],
   "source": [
    "kLabels = len(labels[0].unique())"
   ],
   "metadata": {
    "collapsed": false,
    "pycharm": {
     "name": "#%%\n"
    }
   }
  },
  {
   "cell_type": "code",
   "execution_count": 3,
   "outputs": [],
   "source": [
    "data = data.to_numpy(dtype=\"float\")\n",
    "labels = labels.to_numpy(dtype=\"float\").flatten()"
   ],
   "metadata": {
    "collapsed": false,
    "pycharm": {
     "name": "#%%\n"
    }
   }
  },
  {
   "cell_type": "code",
   "execution_count": 4,
   "outputs": [],
   "source": [
    "from Custom_K_Means import CustomKMeans\n",
    "from sklearn.metrics import accuracy_score"
   ],
   "metadata": {
    "collapsed": false,
    "pycharm": {
     "name": "#%%\n"
    }
   }
  },
  {
   "cell_type": "markdown",
   "source": [
    "TASK: 1.1, 1.2, 1.3, 1.4.1"
   ],
   "metadata": {
    "collapsed": false,
    "pycharm": {
     "name": "#%% md\n"
    }
   }
  },
  {
   "cell_type": "code",
   "execution_count": 5,
   "outputs": [
    {
     "name": "stdout",
     "output_type": "stream",
     "text": [
      "=============== SUMMARY ================\n",
      "\n",
      "--------------------------------------------------\n",
      "Fitting model for distance: EUC\n",
      "Stopping after iteration 21 as centroids did not change\n",
      "SSE/Inertia post fitting: 25401918559.54447\n",
      "Accuracy for distance [EUC]: 61.23%\n",
      "--------------------------------------------------\n",
      "Fitting model for distance: JAC\n",
      "Stopping after iteration 48 as centroids did not change\n",
      "SSE/Inertia post fitting: 25455295671.272434\n",
      "Accuracy for distance [JAC]: 59.89%\n",
      "--------------------------------------------------\n",
      "Fitting model for distance: COS\n",
      "Stopping after iteration 7 as centroids did not change\n",
      "SSE/Inertia post fitting: 25641531016.80983\n",
      "Accuracy for distance [COS]: 59.07%\n"
     ]
    }
   ],
   "source": [
    "dist = [\"EUC\", \"JAC\", \"COS\"]\n",
    "print(\"=============== SUMMARY ================\\n\")\n",
    "for d in dist:\n",
    "    print(\"-\" * 50)\n",
    "    model = CustomKMeans(k=kLabels, maxIter=50, distanceMetric=d, stopCriteria=\"centroid\")\n",
    "    print(\"Fitting model for distance: {}\".format(d))\n",
    "    model.fit(data, labels)\n",
    "    predictions = model.predict(data)\n",
    "    acc = accuracy_score(labels, predictions) * 100\n",
    "    print(\"SSE/Inertia post fitting: {}\".format(model.inertia))\n",
    "    print(\"Accuracy for distance [{}]: {}%\".format(d, acc))"
   ],
   "metadata": {
    "collapsed": false,
    "pycharm": {
     "name": "#%%\n"
    }
   }
  },
  {
   "cell_type": "markdown",
   "source": [
    "Task: 1.4.2"
   ],
   "metadata": {
    "collapsed": false,
    "pycharm": {
     "name": "#%% md\n"
    }
   }
  },
  {
   "cell_type": "code",
   "execution_count": 7,
   "outputs": [
    {
     "name": "stdout",
     "output_type": "stream",
     "text": [
      "=============== SUMMARY ================\n",
      "\n",
      "--------------------------------------------------\n",
      "Fitting model for distance: EUC\n",
      "Stopping after iteration 100 as maxIter limit reached\n",
      "SSE/Inertia post fitting: 25401891794.045338\n",
      "Accuracy for distance [EUC]: 61.23%\n",
      "--------------------------------------------------\n",
      "Fitting model for distance: JAC\n",
      "Stopping after iteration 100 as maxIter limit reached\n",
      "SSE/Inertia post fitting: 25455920521.785477\n",
      "Accuracy for distance [JAC]: 59.9%\n",
      "--------------------------------------------------\n",
      "Fitting model for distance: COS\n",
      "Stopping after iteration 100 as maxIter limit reached\n",
      "SSE/Inertia post fitting: 25490102804.651886\n",
      "Accuracy for distance [COS]: 63.32%\n"
     ]
    }
   ],
   "source": [
    "dist = [\"EUC\", \"JAC\", \"COS\"]\n",
    "print(\"=============== SUMMARY ================\\n\")\n",
    "for d in dist:\n",
    "    print(\"-\" * 50)\n",
    "    model = CustomKMeans(k=kLabels, maxIter=100, distanceMetric=d, stopCriteria=\"maxIter\")\n",
    "    print(\"Fitting model for distance: {}\".format(d))\n",
    "    model.fit(data, labels)\n",
    "    predictions = model.predict(data)\n",
    "    acc = accuracy_score(labels, predictions) * 100\n",
    "    print(\"SSE/Inertia post fitting: {}\".format(model.inertia))\n",
    "    print(\"Accuracy for distance [{}]: {}%\".format(d, acc))dd"
   ],
   "metadata": {
    "collapsed": false,
    "pycharm": {
     "name": "#%%\n"
    }
   }
  },
  {
   "cell_type": "markdown",
   "source": [
    "Task: 1.4.3"
   ],
   "metadata": {
    "collapsed": false,
    "pycharm": {
     "name": "#%% md\n"
    }
   }
  },
  {
   "cell_type": "code",
   "execution_count": 5,
   "outputs": [
    {
     "name": "stdout",
     "output_type": "stream",
     "text": [
      "=============== SUMMARY ================\n",
      "\n",
      "--------------------------------------------------\n",
      "Fitting model for distance: EUC\n",
      "Stopping after iteration 23 as Inertia/SSE increased across iteration\n",
      "SSE/Inertia post fitting: 25401891794.045338\n",
      "Accuracy for distance [EUC]: 61.23%\n",
      "--------------------------------------------------\n",
      "Fitting model for distance: JAC\n",
      "Stopping after iteration 15 as Inertia/SSE increased across iteration\n",
      "SSE/Inertia post fitting: 25518688474.414673\n",
      "Accuracy for distance [JAC]: 62.32%\n",
      "--------------------------------------------------\n",
      "Fitting model for distance: COS\n",
      "Stopping after iteration 23 as Inertia/SSE increased across iteration\n",
      "SSE/Inertia post fitting: 25492328484.18101\n",
      "Accuracy for distance [COS]: 63.29%\n"
     ]
    }
   ],
   "source": [
    "dist = [\"EUC\", \"JAC\", \"COS\"]\n",
    "print(\"=============== SUMMARY ================\\n\")\n",
    "for d in dist:\n",
    "    print(\"-\" * 50)\n",
    "    model = CustomKMeans(k=kLabels, distanceMetric=d, stopCriteria=\"sse\")\n",
    "    print(\"Fitting model for distance: {}\".format(d))\n",
    "    model.fit(data, labels)\n",
    "    predictions = model.predict(data)\n",
    "    acc = accuracy_score(labels, predictions) * 100\n",
    "    print(\"SSE/Inertia post fitting: {}\".format(model.inertia))\n",
    "    print(\"Accuracy for distance [{}]: {}%\".format(d, acc))"
   ],
   "metadata": {
    "collapsed": false,
    "pycharm": {
     "name": "#%%\n"
    }
   }
  }
 ],
 "metadata": {
  "kernelspec": {
   "display_name": "Python 3",
   "language": "python",
   "name": "python3"
  },
  "language_info": {
   "codemirror_mode": {
    "name": "ipython",
    "version": 2
   },
   "file_extension": ".py",
   "mimetype": "text/x-python",
   "name": "python",
   "nbconvert_exporter": "python",
   "pygments_lexer": "ipython2",
   "version": "2.7.6"
  }
 },
 "nbformat": 4,
 "nbformat_minor": 0
}