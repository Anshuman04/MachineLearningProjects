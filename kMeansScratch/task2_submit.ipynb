{
 "cells": [
  {
   "cell_type": "code",
   "execution_count": 15,
   "metadata": {
    "collapsed": true
   },
   "outputs": [],
   "source": [
    "import numpy as np\n",
    "import pandas as pd\n",
    "from sklearn.metrics.pairwise import euclidean_distances as ed"
   ]
  },
  {
   "cell_type": "code",
   "execution_count": 16,
   "outputs": [
    {
     "name": "stdout",
     "output_type": "stream",
     "text": [
      "      0    1\n",
      "A1  4.7  3.2\n",
      "A2  4.9  3.1\n",
      "A3  5.0  3.0\n",
      "A4  4.6  2.9\n",
      "      0    1\n",
      "B1  5.9  3.2\n",
      "B2  6.7  3.1\n",
      "B3  6.0  3.0\n",
      "B4  6.2  2.8\n"
     ]
    }
   ],
   "source": [
    "dataC1 = [[4.7, 3.2], [4.9, 3.1], [5.0, 3.0], [4.6, 2.9]]\n",
    "dataC2 = [[5.9, 3.2], [6.7, 3.1], [6.0, 3.0], [6.2, 2.8]]\n",
    "\n",
    "c1DF = pd.DataFrame(dataC1, index=[\"A1\", \"A2\", \"A3\", \"A4\"])\n",
    "c2DF = pd.DataFrame(dataC2, index=[\"B1\", \"B2\", \"B3\", \"B4\"])\n",
    "\n",
    "c1DF.name = \"Cluster 1\"\n",
    "c2DF.name = \"Cluster 2\"\n",
    "\n",
    "print(c1DF.head())\n",
    "print(c2DF.head())\n"
   ],
   "metadata": {
    "collapsed": false,
    "pycharm": {
     "name": "#%%\n"
    }
   }
  },
  {
   "cell_type": "code",
   "execution_count": 23,
   "outputs": [
    {
     "name": "stdout",
     "output_type": "stream",
     "text": [
      "\t\tEuclidean Distance Matrix\n",
      "          B1        B2        B3        B4\n",
      "A1  1.200000  2.002498  1.315295  1.552417\n",
      "A2  1.004988  1.800000  1.104536  1.334166\n",
      "A3  0.921954  1.702939  1.000000  1.216553\n",
      "A4  1.334166  2.109502  1.403567  1.603122\n"
     ]
    }
   ],
   "source": [
    "res = ed(c1DF, c2DF)\n",
    "resDF = pd.DataFrame(res, columns=[\"B1\", \"B2\", \"B3\", \"B4\"], index=[\"A1\", \"A2\", \"A3\", \"A4\"])\n",
    "print(\"\\t\\tEuclidean Distance Matrix\")\n",
    "print(resDF.head())"
   ],
   "metadata": {
    "collapsed": false,
    "pycharm": {
     "name": "#%%\n"
    }
   }
  },
  {
   "cell_type": "code",
   "execution_count": 25,
   "outputs": [
    {
     "name": "stdout",
     "output_type": "stream",
     "text": [
      "Average Distance: 1.4128564854895738\n"
     ]
    }
   ],
   "source": [
    "average = sum(sum(res)) / np.prod(res.shape)\n",
    "print(\"Average Distance: {}\".format(average))"
   ],
   "metadata": {
    "collapsed": false,
    "pycharm": {
     "name": "#%%\n"
    }
   }
  }
 ],
 "metadata": {
  "kernelspec": {
   "display_name": "Python 3",
   "language": "python",
   "name": "python3"
  },
  "language_info": {
   "codemirror_mode": {
    "name": "ipython",
    "version": 2
   },
   "file_extension": ".py",
   "mimetype": "text/x-python",
   "name": "python",
   "nbconvert_exporter": "python",
   "pygments_lexer": "ipython2",
   "version": "2.7.6"
  }
 },
 "nbformat": 4,
 "nbformat_minor": 0
}